{
 "cells": [
  {
   "cell_type": "code",
   "execution_count": 2,
   "metadata": {},
   "outputs": [],
   "source": [
    "%matplotlib qt\n"
   ]
  },
  {
   "cell_type": "code",
   "execution_count": 9,
   "metadata": {},
   "outputs": [],
   "source": [
    "import matplotlib.pyplot as plt\n",
    "import numpy as np\n"
   ]
  },
  {
   "cell_type": "code",
   "execution_count": 4,
   "metadata": {},
   "outputs": [],
   "source": [
    "from PIL import Image\n"
   ]
  },
  {
   "cell_type": "code",
   "execution_count": 13,
   "metadata": {},
   "outputs": [
    {
     "data": {
      "text/plain": [
       "(168, 299, 3)"
      ]
     },
     "execution_count": 13,
     "metadata": {},
     "output_type": "execute_result"
    }
   ],
   "source": [
    "img=Image.open('download (1).jpg')\n",
    "img=np.array(img)\n",
    "img.shape"
   ]
  },
  {
   "cell_type": "code",
   "execution_count": 14,
   "metadata": {},
   "outputs": [
    {
     "data": {
      "text/plain": [
       "<matplotlib.image.AxesImage at 0x2030024b848>"
      ]
     },
     "execution_count": 14,
     "metadata": {},
     "output_type": "execute_result"
    }
   ],
   "source": [
    "plt.imshow(img)"
   ]
  },
  {
   "cell_type": "code",
   "execution_count": 80,
   "metadata": {},
   "outputs": [
    {
     "name": "stdout",
     "output_type": "stream",
     "text": [
      "(168, 299, 3) output\\download (1).jpg\n",
      "(168, 300, 3) output\\download (10).jpg\n",
      "(168, 300, 3) output\\download (11).jpg\n",
      "(224, 225, 3) output\\download (12).jpg\n",
      "(159, 318, 3) output\\download (13).jpg\n",
      "(194, 259, 3) output\\download (14).jpg\n",
      "(168, 300, 3) output\\download (15).jpg\n",
      "(184, 274, 3) output\\download (16).jpg\n",
      "(183, 275, 3) output\\download (17).jpg\n",
      "(190, 266, 3) output\\download (18).jpg\n",
      "(179, 281, 3) output\\download (19).jpg\n",
      "(168, 300, 3) output\\download (2).jpg\n",
      "(168, 300, 3) output\\download (3).jpg\n",
      "(194, 259, 3) output\\download (4).jpg\n",
      "(183, 275, 3) output\\download (5).jpg\n",
      "(194, 259, 3) output\\download (6).jpg\n",
      "(172, 293, 3) output\\download (7).jpg\n",
      "(159, 318, 3) output\\download (8).jpg\n",
      "(194, 259, 3) output\\download (9).jpg\n",
      "(171, 295, 3) output\\download.jpg\n",
      "(194, 259, 3) output\\images (1).jpg\n",
      "(173, 291, 3) output\\images.jpg\n"
     ]
    }
   ],
   "source": [
    "import glob\n",
    "from PIL import Image\n",
    "#https://stackoverflow.com/questions/51178166/iterate-through-folder-with-pillow-image-open\n",
    "\n",
    "images = glob.glob(\"output/*.jpg\")\n",
    "for image in images:\n",
    "    with open(image, 'rb') as file:\n",
    "        img = Image.open(file)\n",
    "        img=np.array(img)\n",
    "        a=img.shape\n",
    "        print(a,image)"
   ]
  },
  {
   "cell_type": "code",
   "execution_count": null,
   "metadata": {},
   "outputs": [],
   "source": []
  }
 ],
 "metadata": {
  "kernelspec": {
   "display_name": "Python 3",
   "language": "python",
   "name": "python3"
  },
  "language_info": {
   "codemirror_mode": {
    "name": "ipython",
    "version": 3
   },
   "file_extension": ".py",
   "mimetype": "text/x-python",
   "name": "python",
   "nbconvert_exporter": "python",
   "pygments_lexer": "ipython3",
   "version": "3.7.6"
  }
 },
 "nbformat": 4,
 "nbformat_minor": 4
}
