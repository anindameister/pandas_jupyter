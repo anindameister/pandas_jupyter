{
 "cells": [
  {
   "cell_type": "code",
   "execution_count": 66,
   "metadata": {},
   "outputs": [],
   "source": [
    "import pandas\n",
    "csvfile = pandas.read_csv('complete.csv')\n",
    "\n",
    "#reading csv"
   ]
  },
  {
   "cell_type": "code",
   "execution_count": 67,
   "metadata": {},
   "outputs": [],
   "source": [
    "csvfile['count'] = 1\n",
    "\n",
    "consolidated_csvfile=csvfile.groupby(['Image name']).count()['count']\n",
    "#consolidating csv\n"
   ]
  },
  {
   "cell_type": "code",
   "execution_count": 83,
   "metadata": {},
   "outputs": [],
   "source": [
    "import glob\n",
    "from PIL import Image\n",
    "import numpy as np\n",
    "#https://stackoverflow.com/questions/51178166/iterate-through-folder-with-pillow-image-open\n",
    "\n",
    "images = glob.glob(\"output/*.jpg\")\n",
    "for image in images:\n",
    "    with open(image, 'rb') as file:\n",
    "        img = Image.open(file)\n",
    "        img=np.array(img)\n",
    "        a=img.shape\n",
    "        \n",
    "       \n",
    "        \n",
    "        \n",
    "        \n",
    "       \n",
    "       \n",
    "        \n",
    "        \n",
    "        \n",
    "\n",
    "#finding dimentions of all the jpeg files\n",
    "#pattern(x:co-ordinate, y:co-ordinate, rgb:channel=3)"
   ]
  },
  {
   "cell_type": "code",
   "execution_count": 82,
   "metadata": {},
   "outputs": [],
   "source": [
    "#https://stackoverflow.com/questions/36271413/pandas-merge-nearly-duplicate-rows-based-on-column-value\n",
    "variable2 = csvfile.groupby('Image name').agg({'object name': ', '.join, \n",
    "                             }).reset_index()\n",
    "variable2.to_csv('objectNAMESconsolidated.csv', encoding='utf-8', index=False)\n"
   ]
  },
  {
   "cell_type": "code",
   "execution_count": 91,
   "metadata": {},
   "outputs": [],
   "source": [
    "#https://stackoverflow.com/questions/53055315/filter-rows-with-minimum-values-groupwise-in-pandas-dataframe\n",
    "\n",
    "import pandas\n",
    "csvfile2 = pandas.read_csv('preparing.csv')\n",
    "\n",
    "variable6 = csvfile2[csvfile2['X-centre'] == csvfile2.groupby('Image name')['X-centre'].transform('min')]\n",
    "\n",
    "\n",
    "variable6.to_csv('minimalXcentre+objectName+preparing+2.csv', encoding='utf-8', index=False)\n",
    "                              \n",
    "                           \n",
    "#variable2.to_csv('objectNAMESjoined.csv', encoding='utf-8', index=False)"
   ]
  },
  {
   "cell_type": "code",
   "execution_count": null,
   "metadata": {},
   "outputs": [],
   "source": [
    "#https://stackoverflow.com/questions/53055315/filter-rows-with-minimum-values-groupwise-in-pandas-dataframe\n",
    "\n",
    "import pandas\n",
    "csvfile2 = pandas.read_csv('preparing.csv')\n",
    "\n",
    "variablemax = csvfile2[csvfile2['X-centre'] == csvfile2.groupby('Image name')['X-centre'].transform('max')]\n",
    "\n",
    "\n",
    "variablemax.to_csv('maximalXcentre+objectName+preparing.csv', encoding='utf-8', index=False)\n",
    "                              \n",
    "                            \n"
   ]
  },
  {
   "cell_type": "code",
   "execution_count": null,
   "metadata": {},
   "outputs": [],
   "source": [
    "#https://stackoverflow.com/questions/53055315/filter-rows-with-minimum-values-groupwise-in-pandas-dataframe\n",
    "\n",
    "import pandas\n",
    "csvfile3 = pandas.read_csv('preparing.csv')\n",
    "\n",
    "variablemax = csvfile3[csvfile2['Y-centre'] == csvfile3.groupby('Image name')['Y-centre'].transform('max')]\n",
    "\n",
    "\n",
    "variablemax.to_csv('maximalYcentre+objectName+preparing.csv', encoding='utf-8', index=False)\n",
    "                              \n",
    "variablemax                              \n"
   ]
  }
 ],
 "metadata": {
  "kernelspec": {
   "display_name": "Python 3",
   "language": "python",
   "name": "python3"
  },
  "language_info": {
   "codemirror_mode": {
    "name": "ipython",
    "version": 3
   },
   "file_extension": ".py",
   "mimetype": "text/x-python",
   "name": "python",
   "nbconvert_exporter": "python",
   "pygments_lexer": "ipython3",
   "version": "3.7.6"
  }
 },
 "nbformat": 4,
 "nbformat_minor": 4
}
