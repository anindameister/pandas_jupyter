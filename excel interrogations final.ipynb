{
 "cells": [
  {
   "cell_type": "code",
   "execution_count": 181,
   "metadata": {},
   "outputs": [],
   "source": [
    "import pandas\n",
    "csvfile = pandas.read_csv('complete2complete2.csv')\n",
    "\n",
    "#reading csv"
   ]
  },
  {
   "cell_type": "code",
   "execution_count": 115,
   "metadata": {},
   "outputs": [],
   "source": [
    "csvfile['count'] = 1\n",
    "\n",
    "consolidated_csvfile=csvfile.groupby(['Image name']).count()['count']\n",
    "\n",
    "#gk.first() \n"
   ]
  },
  {
   "cell_type": "code",
   "execution_count": 202,
   "metadata": {},
   "outputs": [
    {
     "name": "stdout",
     "output_type": "stream",
     "text": [
      "m\n",
      "i\n"
     ]
    }
   ],
   "source": [
    "groupbybasic_csvfile = csvfile.groupby(['Image name']).size().reset_index(name='Size')\n",
    "#print (groupbybasic_csvfile)\n",
    "\n",
    "for i in groupbybasic_csvfile:\n",
    "    print(i)\n"
   ]
  },
  {
   "cell_type": "code",
   "execution_count": null,
   "metadata": {},
   "outputs": [],
   "source": []
  },
  {
   "cell_type": "code",
   "execution_count": null,
   "metadata": {},
   "outputs": [],
   "source": [
    "import glob\n",
    "from PIL import Image\n",
    "import numpy as np\n",
    "#https://stackoverflow.com/questions/51178166/iterate-through-folder-with-pillow-image-open\n",
    "\n",
    "images = glob.glob(\"output/*.jpg\")\n",
    "for image in images:\n",
    "    with open(image, 'rb') as file:\n",
    "        img = Image.open(file)\n",
    "        img=np.array(img)\n",
    "        a=img.shape\n",
    "        \n",
    "       \n",
    "        \n",
    "        \n",
    "        \n",
    "       \n",
    "       \n",
    "        \n",
    "        \n",
    "        \n",
    "\n",
    "#finding dimentions of all the jpeg files\n",
    "#pattern(x:co-ordinate, y:co-ordinate, rgb:channel=3)"
   ]
  },
  {
   "cell_type": "code",
   "execution_count": 82,
   "metadata": {},
   "outputs": [],
   "source": [
    "#https://stackoverflow.com/questions/36271413/pandas-merge-nearly-duplicate-rows-based-on-column-value\n",
    "variable2 = csvfile.groupby('Image name').agg({'object name': ', '.join, \n",
    "                             }).reset_index()\n",
    "variable2.to_csv('objectNAMESconsolidated.csv', encoding='utf-8', index=False)\n"
   ]
  },
  {
   "cell_type": "code",
   "execution_count": 91,
   "metadata": {},
   "outputs": [],
   "source": [
    "#https://stackoverflow.com/questions/53055315/filter-rows-with-minimum-values-groupwise-in-pandas-dataframe\n",
    "\n",
    "import pandas\n",
    "csvfile2 = pandas.read_csv('preparing.csv')\n",
    "\n",
    "variable6 = csvfile2[csvfile2['X-centre'] == csvfile2.groupby('Image name')['X-centre'].transform('min')]\n",
    "\n",
    "\n",
    "variable6.to_csv('minimalXcentre+objectName+preparing+2.csv', encoding='utf-8', index=False)\n",
    "                              \n",
    "                           \n",
    "#variable2.to_csv('objectNAMESjoined.csv', encoding='utf-8', index=False)"
   ]
  },
  {
   "cell_type": "code",
   "execution_count": null,
   "metadata": {},
   "outputs": [],
   "source": [
    "#https://stackoverflow.com/questions/53055315/filter-rows-with-minimum-values-groupwise-in-pandas-dataframe\n",
    "\n",
    "import pandas\n",
    "csvfile2 = pandas.read_csv('preparing.csv')\n",
    "\n",
    "variablemax = csvfile2[csvfile2['X-centre'] == csvfile2.groupby('Image name')['X-centre'].transform('max')]\n",
    "\n",
    "\n",
    "variablemax.to_csv('maximalXcentre+objectName+preparing.csv', encoding='utf-8', index=False)\n",
    "                              \n",
    "                            \n"
   ]
  },
  {
   "cell_type": "code",
   "execution_count": 99,
   "metadata": {},
   "outputs": [],
   "source": [
    "#https://stackoverflow.com/questions/53055315/filter-rows-with-minimum-values-groupwise-in-pandas-dataframe\n",
    "\n",
    "import pandas\n",
    "csvfile3 = pandas.read_csv('preparing.csv')\n",
    "\n",
    "variablemaxy = csvfile3[csvfile2['Y-centre'] == csvfile3.groupby('Image name')['Y-centre'].transform('max')]\n",
    "\n",
    "\n",
    "variablemaxy.to_csv('maximalYcentre+objectName+preparing.csv', encoding='utf-8', index=False)\n",
    "                              \n",
    "                        \n"
   ]
  },
  {
   "cell_type": "code",
   "execution_count": 100,
   "metadata": {},
   "outputs": [],
   "source": [
    "#https://stackoverflow.com/questions/53055315/filter-rows-with-minimum-values-groupwise-in-pandas-dataframe\n",
    "\n",
    "import pandas\n",
    "csvfile4 = pandas.read_csv('preparing.csv')\n",
    "\n",
    "variablemin = csvfile3[csvfile2['Y-centre'] == csvfile3.groupby('Image name')['Y-centre'].transform('min')]\n",
    "\n",
    "\n",
    "variablemin.to_csv('minimlalYcentre+objectName+preparing.csv', encoding='utf-8', index=False)\n",
    "                              \n",
    "                          \n"
   ]
  },
  {
   "cell_type": "code",
   "execution_count": 108,
   "metadata": {},
   "outputs": [],
   "source": [
    "consolidated_csvfile.to_csv(\"number_of_objects.csv\",encoding='utf-8', index=False)"
   ]
  },
  {
   "cell_type": "code",
   "execution_count": 107,
   "metadata": {},
   "outputs": [
    {
     "data": {
      "text/plain": [
       "Image name\n",
       "download (1).jpg.txt     1\n",
       "download (10).jpg.txt    2\n",
       "download (11).jpg.txt    1\n",
       "download (12).jpg.txt    2\n",
       "download (13).jpg.txt    1\n",
       "download (14).jpg.txt    2\n",
       "download (15).jpg.txt    9\n",
       "download (16).jpg.txt    2\n",
       "download (17).jpg.txt    3\n",
       "download (18).jpg.txt    2\n",
       "download (19).jpg.txt    2\n",
       "download (2).jpg.txt     2\n",
       "download (3).jpg.txt     2\n",
       "download (4).jpg.txt     1\n",
       "download (5).jpg.txt     1\n",
       "download (6).jpg.txt     1\n",
       "download (7).jpg.txt     2\n",
       "download (8).jpg.txt     1\n",
       "download (9).jpg.txt     2\n",
       "download.jpg.txt         1\n",
       "images (1).jpg.txt       5\n",
       "images.jpg.txt           6\n",
       "Name: count, dtype: int64"
      ]
     },
     "execution_count": 107,
     "metadata": {},
     "output_type": "execute_result"
    }
   ],
   "source": [
    "consolidated_csvfile"
   ]
  },
  {
   "cell_type": "code",
   "execution_count": null,
   "metadata": {},
   "outputs": [],
   "source": []
  }
 ],
 "metadata": {
  "kernelspec": {
   "display_name": "Python 3",
   "language": "python",
   "name": "python3"
  },
  "language_info": {
   "codemirror_mode": {
    "name": "ipython",
    "version": 3
   },
   "file_extension": ".py",
   "mimetype": "text/x-python",
   "name": "python",
   "nbconvert_exporter": "python",
   "pygments_lexer": "ipython3",
   "version": "3.7.6"
  }
 },
 "nbformat": 4,
 "nbformat_minor": 4
}
