{
 "cells": [
  {
   "cell_type": "code",
   "execution_count": 181,
   "metadata": {},
   "outputs": [],
   "source": [
    "import pandas\n",
    "csvfile = pandas.read_csv('complete2complete2.csv')\n",
    "\n",
    "#reading csv"
   ]
  },
  {
   "cell_type": "code",
   "execution_count": 115,
   "metadata": {},
   "outputs": [],
   "source": [
    "csvfile['count'] = 1\n",
    "\n",
    "consolidated_csvfile=csvfile.groupby(['Image name']).count()['count']\n",
    "\n",
    "#gk.first() \n"
   ]
  },
  {
   "cell_type": "code",
   "execution_count": 202,
   "metadata": {},
   "outputs": [
    {
     "name": "stdout",
     "output_type": "stream",
     "text": [
      "m\n",
      "i\n"
     ]
    }
   ],
   "source": [
    "groupbybasic_csvfile = csvfile.groupby(['Image name']).size().reset_index(name='Size')\n",
    "#print (groupbybasic_csvfile)\n",
    "\n",
    "for i in groupbybasic_csvfile:\n",
    "    print(i)\n"
   ]
  },
  {
   "cell_type": "code",
   "execution_count": null,
   "metadata": {},
   "outputs": [],
   "source": []
  },
  {
   "cell_type": "code",
   "execution_count": null,
   "metadata": {},
   "outputs": [],
   "source": [
    "import glob\n",
    "from PIL import Image\n",
    "import numpy as np\n",
    "#https://stackoverflow.com/questions/51178166/iterate-through-folder-with-pillow-image-open\n",
    "\n",
    "images = glob.glob(\"output/*.jpg\")\n",
    "for image in images:\n",
    "    with open(image, 'rb') as file:\n",
    "        img = Image.open(file)\n",
    "        img=np.array(img)\n",
    "        a=img.shape\n",
    "        \n",
    "       \n",
    "        \n",
    "        \n",
    "        \n",
    "       \n",
    "       \n",
    "        \n",
    "        \n",
    "        \n",
    "\n",
    "#finding dimentions of all the jpeg files\n",
    "#pattern(x:co-ordinate, y:co-ordinate, rgb:channel=3)"
   ]
  },
  {
   "cell_type": "code",
   "execution_count": 82,
   "metadata": {},
   "outputs": [],
   "source": [
    "#https://stackoverflow.com/questions/36271413/pandas-merge-nearly-duplicate-rows-based-on-column-value\n",
    "variable2 = csvfile.groupby('Image name').agg({'object name': ', '.join, \n",
    "                             }).reset_index()\n",
    "variable2.to_csv('objectNAMESconsolidated.csv', encoding='utf-8', index=False)\n"
   ]
  },
  {
   "cell_type": "code",
   "execution_count": 91,
   "metadata": {},
   "outputs": [],
   "source": [
    "#https://stackoverflow.com/questions/53055315/filter-rows-with-minimum-values-groupwise-in-pandas-dataframe\n",
    "\n",
    "import pandas\n",
    "csvfile2 = pandas.read_csv('preparing.csv')\n",
    "\n",
    "variable6 = csvfile2[csvfile2['X-centre'] == csvfile2.groupby('Image name')['X-centre'].transform('min')]\n",
    "\n",
    "\n",
    "variable6.to_csv('minimalXcentre+objectName+preparing+2.csv', encoding='utf-8', index=False)\n",
    "                              \n",
    "                           \n",
    "#variable2.to_csv('objectNAMESjoined.csv', encoding='utf-8', index=False)"
   ]
  },
  {
   "cell_type": "code",
   "execution_count": null,
   "metadata": {},
   "outputs": [],
   "source": [
    "#https://stackoverflow.com/questions/53055315/filter-rows-with-minimum-values-groupwise-in-pandas-dataframe\n",
    "\n",
    "import pandas\n",
    "csvfile2 = pandas.read_csv('preparing.csv')\n",
    "\n",
    "variablemax = csvfile2[csvfile2['X-centre'] == csvfile2.groupby('Image name')['X-centre'].transform('max')]\n",
    "\n",
    "\n",
    "variablemax.to_csv('maximalXcentre+objectName+preparing.csv', encoding='utf-8', index=False)\n",
    "                              \n",
    "                            \n"
   ]
  },
  {
   "cell_type": "code",
   "execution_count": 99,
   "metadata": {},
   "outputs": [],
   "source": [
    "#https://stackoverflow.com/questions/53055315/filter-rows-with-minimum-values-groupwise-in-pandas-dataframe\n",
    "\n",
    "import pandas\n",
    "csvfile3 = pandas.read_csv('preparing.csv')\n",
    "\n",
    "variablemaxy = csvfile3[csvfile2['Y-centre'] == csvfile3.groupby('Image name')['Y-centre'].transform('max')]\n",
    "\n",
    "\n",
    "variablemaxy.to_csv('maximalYcentre+objectName+preparing.csv', encoding='utf-8', index=False)\n",
    "                              \n",
    "                        \n"
   ]
  },
  {
   "cell_type": "code",
   "execution_count": 100,
   "metadata": {},
   "outputs": [],
   "source": [
    "#https://stackoverflow.com/questions/53055315/filter-rows-with-minimum-values-groupwise-in-pandas-dataframe\n",
    "\n",
    "import pandas\n",
    "csvfile4 = pandas.read_csv('preparing.csv')\n",
    "\n",
    "variablemin = csvfile3[csvfile2['Y-centre'] == csvfile3.groupby('Image name')['Y-centre'].transform('min')]\n",
    "\n",
    "\n",
    "variablemin.to_csv('minimlalYcentre+objectName+preparing.csv', encoding='utf-8', index=False)\n",
    "                              \n",
    "                          \n"
   ]
  },
  {
   "cell_type": "code",
   "execution_count": 108,
   "metadata": {},
   "outputs": [],
   "source": [
    "consolidated_csvfile.to_csv(\"number_of_objects.csv\",encoding='utf-8', index=False)"
   ]
  },
  {
   "cell_type": "code",
   "execution_count": 107,
   "metadata": {},
   "outputs": [
    {
     "data": {
      "text/plain": [
       "Image name\n",
       "download (1).jpg.txt     1\n",
       "download (10).jpg.txt    2\n",
       "download (11).jpg.txt    1\n",
       "download (12).jpg.txt    2\n",
       "download (13).jpg.txt    1\n",
       "download (14).jpg.txt    2\n",
       "download (15).jpg.txt    9\n",
       "download (16).jpg.txt    2\n",
       "download (17).jpg.txt    3\n",
       "download (18).jpg.txt    2\n",
       "download (19).jpg.txt    2\n",
       "download (2).jpg.txt     2\n",
       "download (3).jpg.txt     2\n",
       "download (4).jpg.txt     1\n",
       "download (5).jpg.txt     1\n",
       "download (6).jpg.txt     1\n",
       "download (7).jpg.txt     2\n",
       "download (8).jpg.txt     1\n",
       "download (9).jpg.txt     2\n",
       "download.jpg.txt         1\n",
       "images (1).jpg.txt       5\n",
       "images.jpg.txt           6\n",
       "Name: count, dtype: int64"
      ]
     },
     "execution_count": 107,
     "metadata": {},
     "output_type": "execute_result"
    }
   ],
   "source": [
    "consolidated_csvfile"
   ]
  },
  {
   "cell_type": "code",
   "execution_count": 73,
   "metadata": {},
   "outputs": [],
   "source": [
    "import pandas\n",
    "csvfile = pandas.read_csv('complete2complete2.csv')\n"
   ]
  },
  {
   "cell_type": "code",
   "execution_count": 59,
   "metadata": {},
   "outputs": [
    {
     "data": {
      "text/plain": [
       "Index(['Image name', 'Object number', 'X1', 'Y1', 'X2', 'Y2', 'object name',\n",
       "       'X-centre', 'Y-centre', 'X-Image Dimentions', 'Y-Image Dimentions',\n",
       "       '(1/4)*Y-cordinates', '(1/4)*X-cordinates', 'y centre of object',\n",
       "       'x centre of object', 'X centre < (1/4)*X-cordinates',\n",
       "       'has on the left', 'has on the right', 'has on the top',\n",
       "       'has on the buttom', 'has in the center', 'has isolated object',\n",
       "       'right of', 'bottom of', 'top of', 'left of', 'least x', 'least y',\n",
       "       'max y', 'max x', 'max x centre object', 'min x centre object',\n",
       "       'max y centre object', 'min y centre object', 'diagonal object'],\n",
       "      dtype='object')"
      ]
     },
     "execution_count": 59,
     "metadata": {},
     "output_type": "execute_result"
    }
   ],
   "source": [
    "csvfile.columns\n"
   ]
  },
  {
   "cell_type": "code",
   "execution_count": 54,
   "metadata": {},
   "outputs": [],
   "source": [
    "csvfile.drop('Object number',  inplace=True, axis=1)\n",
    "             "
   ]
  },
  {
   "cell_type": "code",
   "execution_count": 74,
   "metadata": {},
   "outputs": [],
   "source": [
    "csvfile.drop(['Object number', 'X1', 'Y1', 'X2', 'Y2', \n",
    "        'Y-centre', 'X-Image Dimentions', 'Y-Image Dimentions',\n",
    "       '(1/4)*Y-cordinates', '(1/4)*X-cordinates', 'y centre of object',\n",
    "       'x centre of object', 'X centre < (1/4)*X-cordinates',\n",
    "       'has on the left', 'has on the right', 'has on the top',\n",
    "       'has on the buttom', 'has in the center', 'has isolated object',\n",
    "       'right of', 'bottom of', 'top of', 'left of', 'least x', 'least y',\n",
    "       'max y', 'max x', 'max x centre object', 'min x centre object',\n",
    "       'max y centre object', 'min y centre object', 'diagonal object'], inplace=True,axis = 1)\n"
   ]
  },
  {
   "cell_type": "code",
   "execution_count": 75,
   "metadata": {},
   "outputs": [
    {
     "data": {
      "text/plain": [
       "Index(['Image name', 'object name', 'X-centre'], dtype='object')"
      ]
     },
     "execution_count": 75,
     "metadata": {},
     "output_type": "execute_result"
    }
   ],
   "source": [
    "csvfile.columns"
   ]
  },
  {
   "cell_type": "code",
   "execution_count": 77,
   "metadata": {},
   "outputs": [
    {
     "data": {
      "text/html": [
       "<div>\n",
       "<style scoped>\n",
       "    .dataframe tbody tr th:only-of-type {\n",
       "        vertical-align: middle;\n",
       "    }\n",
       "\n",
       "    .dataframe tbody tr th {\n",
       "        vertical-align: top;\n",
       "    }\n",
       "\n",
       "    .dataframe thead th {\n",
       "        text-align: right;\n",
       "    }\n",
       "</style>\n",
       "<table border=\"1\" class=\"dataframe\">\n",
       "  <thead>\n",
       "    <tr style=\"text-align: right;\">\n",
       "      <th></th>\n",
       "      <th>Image name</th>\n",
       "      <th>object name</th>\n",
       "    </tr>\n",
       "  </thead>\n",
       "  <tbody>\n",
       "    <tr>\n",
       "      <th>0</th>\n",
       "      <td>download (1).jpg.txt</td>\n",
       "      <td>car</td>\n",
       "    </tr>\n",
       "    <tr>\n",
       "      <th>1</th>\n",
       "      <td>download (10).jpg.txt</td>\n",
       "      <td>cat, cup</td>\n",
       "    </tr>\n",
       "    <tr>\n",
       "      <th>2</th>\n",
       "      <td>download (11).jpg.txt</td>\n",
       "      <td>cat</td>\n",
       "    </tr>\n",
       "    <tr>\n",
       "      <th>3</th>\n",
       "      <td>download (12).jpg.txt</td>\n",
       "      <td>cat, diningtable</td>\n",
       "    </tr>\n",
       "    <tr>\n",
       "      <th>4</th>\n",
       "      <td>download (13).jpg.txt</td>\n",
       "      <td>cat</td>\n",
       "    </tr>\n",
       "    <tr>\n",
       "      <th>5</th>\n",
       "      <td>download (14).jpg.txt</td>\n",
       "      <td>elephant, elephant</td>\n",
       "    </tr>\n",
       "    <tr>\n",
       "      <th>6</th>\n",
       "      <td>download (15).jpg.txt</td>\n",
       "      <td>elephant, cow, elephant, cow, cow, cow, elepha...</td>\n",
       "    </tr>\n",
       "    <tr>\n",
       "      <th>7</th>\n",
       "      <td>download (16).jpg.txt</td>\n",
       "      <td>elephant, elephant</td>\n",
       "    </tr>\n",
       "    <tr>\n",
       "      <th>8</th>\n",
       "      <td>download (17).jpg.txt</td>\n",
       "      <td>elephant, car, elephant</td>\n",
       "    </tr>\n",
       "    <tr>\n",
       "      <th>9</th>\n",
       "      <td>download (18).jpg.txt</td>\n",
       "      <td>car, dog</td>\n",
       "    </tr>\n",
       "    <tr>\n",
       "      <th>10</th>\n",
       "      <td>download (19).jpg.txt</td>\n",
       "      <td>elephant, car</td>\n",
       "    </tr>\n",
       "    <tr>\n",
       "      <th>11</th>\n",
       "      <td>download (2).jpg.txt</td>\n",
       "      <td>car, car</td>\n",
       "    </tr>\n",
       "    <tr>\n",
       "      <th>12</th>\n",
       "      <td>download (3).jpg.txt</td>\n",
       "      <td>person, car</td>\n",
       "    </tr>\n",
       "    <tr>\n",
       "      <th>13</th>\n",
       "      <td>download (4).jpg.txt</td>\n",
       "      <td>car</td>\n",
       "    </tr>\n",
       "    <tr>\n",
       "      <th>14</th>\n",
       "      <td>download (5).jpg.txt</td>\n",
       "      <td>car</td>\n",
       "    </tr>\n",
       "    <tr>\n",
       "      <th>15</th>\n",
       "      <td>download (6).jpg.txt</td>\n",
       "      <td>bus</td>\n",
       "    </tr>\n",
       "    <tr>\n",
       "      <th>16</th>\n",
       "      <td>download (7).jpg.txt</td>\n",
       "      <td>bus, traffic light</td>\n",
       "    </tr>\n",
       "    <tr>\n",
       "      <th>17</th>\n",
       "      <td>download (8).jpg.txt</td>\n",
       "      <td>bus</td>\n",
       "    </tr>\n",
       "    <tr>\n",
       "      <th>18</th>\n",
       "      <td>download (9).jpg.txt</td>\n",
       "      <td>bus, person</td>\n",
       "    </tr>\n",
       "    <tr>\n",
       "      <th>19</th>\n",
       "      <td>download.jpg.txt</td>\n",
       "      <td>car</td>\n",
       "    </tr>\n",
       "    <tr>\n",
       "      <th>20</th>\n",
       "      <td>images (1).jpg.txt</td>\n",
       "      <td>elephant, truck, car, truck, car</td>\n",
       "    </tr>\n",
       "    <tr>\n",
       "      <th>21</th>\n",
       "      <td>images.jpg.txt</td>\n",
       "      <td>person, car, elephant, person, person, person</td>\n",
       "    </tr>\n",
       "  </tbody>\n",
       "</table>\n",
       "</div>"
      ],
      "text/plain": [
       "               Image name                                        object name\n",
       "0    download (1).jpg.txt                                                car\n",
       "1   download (10).jpg.txt                                           cat, cup\n",
       "2   download (11).jpg.txt                                                cat\n",
       "3   download (12).jpg.txt                                   cat, diningtable\n",
       "4   download (13).jpg.txt                                                cat\n",
       "5   download (14).jpg.txt                                 elephant, elephant\n",
       "6   download (15).jpg.txt  elephant, cow, elephant, cow, cow, cow, elepha...\n",
       "7   download (16).jpg.txt                                 elephant, elephant\n",
       "8   download (17).jpg.txt                            elephant, car, elephant\n",
       "9   download (18).jpg.txt                                           car, dog\n",
       "10  download (19).jpg.txt                                      elephant, car\n",
       "11   download (2).jpg.txt                                           car, car\n",
       "12   download (3).jpg.txt                                        person, car\n",
       "13   download (4).jpg.txt                                                car\n",
       "14   download (5).jpg.txt                                                car\n",
       "15   download (6).jpg.txt                                                bus\n",
       "16   download (7).jpg.txt                                 bus, traffic light\n",
       "17   download (8).jpg.txt                                                bus\n",
       "18   download (9).jpg.txt                                        bus, person\n",
       "19       download.jpg.txt                                                car\n",
       "20     images (1).jpg.txt                   elephant, truck, car, truck, car\n",
       "21         images.jpg.txt      person, car, elephant, person, person, person"
      ]
     },
     "execution_count": 77,
     "metadata": {},
     "output_type": "execute_result"
    }
   ],
   "source": [
    "variable2 = csvfile.groupby('Image name').agg({'object name': ', '.join, \n",
    "                             }).reset_index()\n",
    "variable2"
   ]
  },
  {
   "cell_type": "code",
   "execution_count": null,
   "metadata": {},
   "outputs": [],
   "source": []
  }
 ],
 "metadata": {
  "kernelspec": {
   "display_name": "Python 3",
   "language": "python",
   "name": "python3"
  },
  "language_info": {
   "codemirror_mode": {
    "name": "ipython",
    "version": 3
   },
   "file_extension": ".py",
   "mimetype": "text/x-python",
   "name": "python",
   "nbconvert_exporter": "python",
   "pygments_lexer": "ipython3",
   "version": "3.7.6"
  }
 },
 "nbformat": 4,
 "nbformat_minor": 4
}
