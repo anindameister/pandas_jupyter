{
 "cells": [
  {
   "cell_type": "code",
   "execution_count": 17,
   "metadata": {},
   "outputs": [
    {
     "data": {
      "text/html": [
       "<div>\n",
       "<style scoped>\n",
       "    .dataframe tbody tr th:only-of-type {\n",
       "        vertical-align: middle;\n",
       "    }\n",
       "\n",
       "    .dataframe tbody tr th {\n",
       "        vertical-align: top;\n",
       "    }\n",
       "\n",
       "    .dataframe thead th {\n",
       "        text-align: right;\n",
       "    }\n",
       "</style>\n",
       "<table border=\"1\" class=\"dataframe\">\n",
       "  <thead>\n",
       "    <tr style=\"text-align: right;\">\n",
       "      <th></th>\n",
       "      <th>Image name</th>\n",
       "      <th>Object number</th>\n",
       "      <th>X1</th>\n",
       "      <th>Y1</th>\n",
       "      <th>X2</th>\n",
       "      <th>Y2</th>\n",
       "      <th>object name</th>\n",
       "    </tr>\n",
       "  </thead>\n",
       "  <tbody>\n",
       "    <tr>\n",
       "      <th>48</th>\n",
       "      <td>images.jpg.txt</td>\n",
       "      <td>0</td>\n",
       "      <td>261</td>\n",
       "      <td>114</td>\n",
       "      <td>286</td>\n",
       "      <td>153</td>\n",
       "      <td>person</td>\n",
       "    </tr>\n",
       "    <tr>\n",
       "      <th>49</th>\n",
       "      <td>images.jpg.txt</td>\n",
       "      <td>0</td>\n",
       "      <td>41</td>\n",
       "      <td>108</td>\n",
       "      <td>63</td>\n",
       "      <td>145</td>\n",
       "      <td>person</td>\n",
       "    </tr>\n",
       "    <tr>\n",
       "      <th>50</th>\n",
       "      <td>images.jpg.txt</td>\n",
       "      <td>0</td>\n",
       "      <td>42</td>\n",
       "      <td>109</td>\n",
       "      <td>62</td>\n",
       "      <td>129</td>\n",
       "      <td>person</td>\n",
       "    </tr>\n",
       "  </tbody>\n",
       "</table>\n",
       "</div>"
      ],
      "text/plain": [
       "        Image name  Object number   X1   Y1   X2   Y2 object name\n",
       "48  images.jpg.txt              0  261  114  286  153      person\n",
       "49  images.jpg.txt              0   41  108   63  145      person\n",
       "50  images.jpg.txt              0   42  109   62  129      person"
      ]
     },
     "execution_count": 17,
     "metadata": {},
     "output_type": "execute_result"
    }
   ],
   "source": [
    "import pandas as pd\n",
    "\n",
    "variable1 = pd.read_csv('Book1.csv')\n",
    "variable1.tail(3) #just see the bottom 3 rows, call .head for top 3 rows\n",
    "#variable1.head(3)"
   ]
  },
  {
   "cell_type": "code",
   "execution_count": 9,
   "metadata": {},
   "outputs": [
    {
     "data": {
      "text/plain": [
       "Image name\n",
       "download (1).jpg.txt     1\n",
       "download (10).jpg.txt    2\n",
       "download (11).jpg.txt    1\n",
       "download (12).jpg.txt    2\n",
       "download (13).jpg.txt    1\n",
       "download (14).jpg.txt    2\n",
       "download (15).jpg.txt    9\n",
       "download (16).jpg.txt    2\n",
       "download (17).jpg.txt    3\n",
       "download (18).jpg.txt    2\n",
       "download (19).jpg.txt    2\n",
       "download (2).jpg.txt     2\n",
       "download (3).jpg.txt     2\n",
       "download (4).jpg.txt     1\n",
       "download (5).jpg.txt     1\n",
       "download (6).jpg.txt     1\n",
       "download (7).jpg.txt     2\n",
       "download (8).jpg.txt     1\n",
       "download (9).jpg.txt     2\n",
       "download.jpg.txt         1\n",
       "images (1).jpg.txt       5\n",
       "images.jpg.txt           6\n",
       "Name: count, dtype: int64"
      ]
     },
     "execution_count": 9,
     "metadata": {},
     "output_type": "execute_result"
    }
   ],
   "source": [
    "df = pd.read_csv('Book1.csv')\n",
    "\n",
    "df['count'] = 1\n",
    "\n",
    "df.groupby(['Image name']).count()['count']"
   ]
  },
  {
   "cell_type": "code",
   "execution_count": 13,
   "metadata": {},
   "outputs": [
    {
     "data": {
      "text/plain": [
       "0      26\n",
       "1      47\n",
       "2       1\n",
       "3      18\n",
       "4       1\n",
       "5       8\n",
       "6      35\n",
       "7      84\n",
       "8       4\n",
       "9     196\n",
       "10     77\n",
       "11    254\n",
       "12      7\n",
       "13    171\n",
       "14    241\n",
       "15     69\n",
       "16     79\n",
       "17    159\n",
       "18     41\n",
       "19    139\n",
       "20     21\n",
       "21    137\n",
       "22     48\n",
       "23     83\n",
       "24     22\n",
       "25     48\n",
       "26    103\n",
       "27     66\n",
       "28    234\n",
       "29    245\n",
       "30     18\n",
       "31     18\n",
       "32      0\n",
       "33      9\n",
       "34     26\n",
       "35      4\n",
       "36     11\n",
       "37     15\n",
       "38    254\n",
       "39     38\n",
       "40     67\n",
       "41     52\n",
       "42     85\n",
       "43     19\n",
       "44     60\n",
       "45    156\n",
       "46      0\n",
       "47     86\n",
       "48    261\n",
       "49     41\n",
       "50     42\n",
       "Name: X1, dtype: int64"
      ]
     },
     "execution_count": 13,
     "metadata": {},
     "output_type": "execute_result"
    }
   ],
   "source": [
    "import pandas as pd\n",
    "\n",
    "variable1 = pd.read_csv('Book1.csv')\n",
    "variable1['X1'] #case sensitive"
   ]
  },
  {
   "cell_type": "code",
   "execution_count": null,
   "metadata": {},
   "outputs": [],
   "source": []
  }
 ],
 "metadata": {
  "kernelspec": {
   "display_name": "Python 3",
   "language": "python",
   "name": "python3"
  },
  "language_info": {
   "codemirror_mode": {
    "name": "ipython",
    "version": 3
   },
   "file_extension": ".py",
   "mimetype": "text/x-python",
   "name": "python",
   "nbconvert_exporter": "python",
   "pygments_lexer": "ipython3",
   "version": "3.7.6"
  }
 },
 "nbformat": 4,
 "nbformat_minor": 4
}
